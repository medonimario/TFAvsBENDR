{
 "cells": [
  {
   "cell_type": "markdown",
   "metadata": {},
   "source": [
    "# Import And Functions"
   ]
  },
  {
   "cell_type": "code",
   "execution_count": 2,
   "metadata": {},
   "outputs": [],
   "source": [
    "from sklearn.model_selection import cross_val_score, StratifiedKFold\n",
    "import pandas as pd\n",
    "from sklearn.discriminant_analysis import LinearDiscriminantAnalysis\n",
    "from imblearn.over_sampling import RandomOverSampler\n",
    "import numpy as np\n",
    "from sklearn.svm import SVC\n",
    "from sklearn.linear_model import LogisticRegression\n",
    "from sklearn.decomposition import PCA\n",
    "import matplotlib.pyplot as plt"
   ]
  },
  {
   "cell_type": "code",
   "execution_count": 3,
   "metadata": {},
   "outputs": [],
   "source": [
    "lda = LinearDiscriminantAnalysis()\n",
    "svc_lin = SVC(C=1000.0, kernel='linear')\n",
    "svc_rbf = SVC(kernel='rbf', C=1000.0, gamma=0.1)\n",
    "logreg = LogisticRegression(max_iter=100000)"
   ]
  },
  {
   "cell_type": "code",
   "execution_count": 4,
   "metadata": {},
   "outputs": [],
   "source": [
    "def cross_validation(dfs, classifier, n_splits=21):\n",
    "    scores = []\n",
    "    \n",
    "    # Determine base group size and the number of groups that need an extra sample\n",
    "    base_group_size = len(dfs) // n_splits\n",
    "    num_extra = len(dfs) % n_splits\n",
    "    \n",
    "    # Create the dynamic groups\n",
    "    grouped_pairs = []\n",
    "    start = 0\n",
    "    for i in range(n_splits):\n",
    "        end = start + base_group_size\n",
    "        if i < num_extra:  # Add an extra sample to the first 'num_extra' groups\n",
    "            end += 1\n",
    "        grouped_pairs.append(dfs[start:end])\n",
    "        start = end\n",
    "    \n",
    "    for i in range(n_splits):\n",
    "        # Prepare the training and test data\n",
    "        test_df = pd.concat(grouped_pairs[i], ignore_index=True)\n",
    "        train_df = pd.concat([df for j, group in enumerate(grouped_pairs) for df in group if j != i], ignore_index=True)\n",
    "        \n",
    "        X_train = train_df.drop('label', axis=1)\n",
    "        y_train = train_df['label']\n",
    "        X_test = test_df.drop('label', axis=1)\n",
    "        y_test = test_df['label']\n",
    "        \n",
    "        # Handle class imbalance for the training set\n",
    "        ros = RandomOverSampler(random_state=42)\n",
    "        X_resampled, y_resampled = ros.fit_resample(X_train, y_train)\n",
    "        \n",
    "        # Train and validate the classifier\n",
    "        classifier.fit(X_resampled, y_resampled)\n",
    "        score = classifier.score(X_test, y_test)\n",
    "        scores.append(score)\n",
    "        print(f\"{score * 100:.2f}%\")\n",
    "    \n",
    "    return scores\n",
    "\n",
    "# Average cross-validation score\n",
    "def print_average(scores):\n",
    "    average_score = sum(scores) / len(scores)\n",
    "    print(f\"Average Cross-Validation Accuracy: {average_score * 100:.2f}%\")\n",
    "\n",
    "# 95% Confidence Interval\n",
    "def ci_95(scores):\n",
    "    std_dev = np.std(scores)\n",
    "    mean_score = np.mean(scores)\n",
    "    error_range = (mean_score - 1.96 * std_dev, mean_score + 1.96 * std_dev)\n",
    "    print(f\"95% Confidence Interval for Accuracy: ({error_range[0] * 100:.2f}%, {error_range[1] * 100:.2f}%)\")"
   ]
  },
  {
   "cell_type": "markdown",
   "metadata": {},
   "source": [
    "# 🧪Experiment Data\n",
    "- 19 EEG channels\n",
    "- Bad Epochs removed\n",
    "- Transformed to BEDNR representations (3 types: no normalization, Half normalized, normalized)\n",
    "- Averaged the 8 representations per epoch"
   ]
  },
  {
   "cell_type": "markdown",
   "metadata": {},
   "source": [
    "## 🔺Non Normalized"
   ]
  },
  {
   "cell_type": "code",
   "execution_count": 4,
   "metadata": {},
   "outputs": [
    {
     "name": "stdout",
     "output_type": "stream",
     "text": [
      "(4825, 1025)\n"
     ]
    }
   ],
   "source": [
    "pairs = [\"003\", \"004\", \"005\", \"007\", \"008\", \"009\", \"010\", \"011\", \"012\", \"013\", \"014\", \"016\", \"017\", \"018\", \"019\", \"020\", \"022\", \"023\", \"024\", \"025\", \"027\"]\n",
    "dfs_nonorm = []\n",
    "\n",
    "for pair in pairs:\n",
    "    df = pd.read_csv('BENDR/BENDR_no-norm_av/pair'+pair+'_df.csv')\n",
    "    dfs_nonorm.append(df)\n",
    "\n",
    "#print the length if all the dfs were concatenated\n",
    "print(pd.concat(dfs_nonorm, ignore_index=True).shape)"
   ]
  },
  {
   "cell_type": "code",
   "execution_count": 5,
   "metadata": {},
   "outputs": [
    {
     "name": "stdout",
     "output_type": "stream",
     "text": [
      "57.80%\n",
      "50.40%\n",
      "49.80%\n",
      "51.52%\n",
      "53.85%\n",
      "57.98%\n",
      "51.57%\n",
      "47.24%\n",
      "50.21%\n",
      "50.81%\n",
      "52.99%\n",
      "55.28%\n",
      "52.07%\n",
      "59.75%\n",
      "59.07%\n",
      "51.41%\n",
      "51.20%\n",
      "46.92%\n",
      "57.61%\n",
      "55.36%\n",
      "50.21%\n",
      "Average Cross-Validation Accuracy: 53.00%\n",
      "95% Confidence Interval for Accuracy: (45.83%, 60.18%)\n"
     ]
    }
   ],
   "source": [
    "# LDA\n",
    "scores_nonorm_lda = cross_validation(dfs_nonorm, lda)\n",
    "print_average(scores_nonorm_lda)\n",
    "ci_95(scores_nonorm_lda)"
   ]
  },
  {
   "cell_type": "code",
   "execution_count": 6,
   "metadata": {},
   "outputs": [
    {
     "name": "stdout",
     "output_type": "stream",
     "text": [
      "54.13%\n",
      "53.60%\n",
      "52.59%\n",
      "54.11%\n",
      "56.80%\n",
      "53.78%\n",
      "52.76%\n",
      "48.82%\n",
      "52.28%\n",
      "57.32%\n",
      "58.12%\n",
      "58.13%\n",
      "52.07%\n",
      "56.43%\n",
      "50.21%\n",
      "57.43%\n",
      "50.80%\n",
      "60.77%\n",
      "56.79%\n",
      "57.14%\n",
      "57.51%\n",
      "Average Cross-Validation Accuracy: 54.84%\n",
      "95% Confidence Interval for Accuracy: (48.89%, 60.79%)\n"
     ]
    }
   ],
   "source": [
    "# SVC RBF\n",
    "scores_nonorm_svc_rbf = cross_validation(dfs_nonorm, svc_rbf)\n",
    "print_average(scores_nonorm_svc_rbf)\n",
    "ci_95(scores_nonorm_svc_rbf)"
   ]
  },
  {
   "cell_type": "code",
   "execution_count": 7,
   "metadata": {},
   "outputs": [
    {
     "name": "stdout",
     "output_type": "stream",
     "text": [
      "55.96%\n",
      "54.80%\n",
      "52.99%\n",
      "52.81%\n",
      "53.85%\n",
      "52.94%\n",
      "49.61%\n",
      "48.03%\n",
      "51.45%\n",
      "58.13%\n",
      "58.55%\n",
      "60.16%\n",
      "50.00%\n",
      "59.75%\n",
      "55.27%\n",
      "55.42%\n",
      "52.00%\n",
      "56.15%\n",
      "57.61%\n",
      "54.76%\n",
      "57.94%\n",
      "Average Cross-Validation Accuracy: 54.68%\n",
      "95% Confidence Interval for Accuracy: (48.24%, 61.11%)\n"
     ]
    }
   ],
   "source": [
    "# SVC Linear\n",
    "scores_nonorm_svc_lin = cross_validation(dfs_nonorm, svc_lin)\n",
    "print_average(scores_nonorm_svc_lin)\n",
    "ci_95(scores_nonorm_svc_lin)"
   ]
  },
  {
   "cell_type": "code",
   "execution_count": 8,
   "metadata": {},
   "outputs": [
    {
     "name": "stdout",
     "output_type": "stream",
     "text": [
      "53.67%\n",
      "54.00%\n",
      "50.20%\n",
      "53.25%\n",
      "55.03%\n",
      "52.52%\n",
      "54.33%\n",
      "48.82%\n",
      "53.94%\n",
      "50.41%\n",
      "53.42%\n",
      "58.94%\n",
      "50.41%\n",
      "56.02%\n",
      "55.70%\n",
      "56.63%\n",
      "51.20%\n",
      "72.31%\n",
      "52.67%\n",
      "54.76%\n",
      "55.79%\n",
      "Average Cross-Validation Accuracy: 54.48%\n",
      "95% Confidence Interval for Accuracy: (45.37%, 63.59%)\n"
     ]
    }
   ],
   "source": [
    "# Logistic Regression\n",
    "scores_nonorm_logreg = cross_validation(dfs_nonorm, logreg)\n",
    "print_average(scores_nonorm_logreg)\n",
    "ci_95(scores_nonorm_logreg)"
   ]
  },
  {
   "cell_type": "markdown",
   "metadata": {},
   "source": [
    "## 🔹Half Normalized"
   ]
  },
  {
   "cell_type": "code",
   "execution_count": 9,
   "metadata": {},
   "outputs": [
    {
     "name": "stdout",
     "output_type": "stream",
     "text": [
      "(4825, 1025)\n"
     ]
    }
   ],
   "source": [
    "pairs = [\"003\", \"004\", \"005\", \"007\", \"008\", \"009\", \"010\", \"011\", \"012\", \"013\", \"014\", \"016\", \"017\", \"018\", \"019\", \"020\", \"022\", \"023\", \"024\", \"025\", \"027\"]\n",
    "dfs_halfnorm = []\n",
    "\n",
    "for pair in pairs:\n",
    "    df = pd.read_csv('BENDR/BENDR_half-norm_av/pair'+pair+'_df.csv')\n",
    "    dfs_halfnorm.append(df)\n",
    "\n",
    "#print the length if all the dfs were concatenated\n",
    "print(pd.concat(dfs_halfnorm, ignore_index=True).shape)"
   ]
  },
  {
   "cell_type": "code",
   "execution_count": 10,
   "metadata": {},
   "outputs": [
    {
     "name": "stdout",
     "output_type": "stream",
     "text": [
      "50.46%\n",
      "47.20%\n",
      "56.18%\n",
      "54.98%\n",
      "56.21%\n",
      "63.03%\n",
      "49.21%\n",
      "51.97%\n",
      "52.28%\n",
      "50.00%\n",
      "52.14%\n",
      "58.94%\n",
      "54.13%\n",
      "50.21%\n",
      "50.63%\n",
      "51.00%\n",
      "48.00%\n",
      "53.85%\n",
      "54.73%\n",
      "55.36%\n",
      "48.07%\n",
      "Average Cross-Validation Accuracy: 52.79%\n",
      "95% Confidence Interval for Accuracy: (45.35%, 60.22%)\n"
     ]
    }
   ],
   "source": [
    "# LDA\n",
    "scores_halfnorm_lda = cross_validation(dfs_halfnorm, lda)\n",
    "print_average(scores_halfnorm_lda)\n",
    "ci_95(scores_halfnorm_lda)"
   ]
  },
  {
   "cell_type": "code",
   "execution_count": 11,
   "metadata": {},
   "outputs": [
    {
     "name": "stdout",
     "output_type": "stream",
     "text": [
      "55.05%\n",
      "54.00%\n",
      "53.39%\n",
      "48.48%\n",
      "57.40%\n",
      "65.97%\n",
      "43.31%\n",
      "53.94%\n",
      "49.38%\n",
      "50.41%\n",
      "53.42%\n",
      "60.57%\n",
      "54.13%\n",
      "48.96%\n",
      "54.85%\n",
      "55.02%\n",
      "51.60%\n",
      "53.85%\n",
      "57.61%\n",
      "53.57%\n",
      "51.07%\n",
      "Average Cross-Validation Accuracy: 53.62%\n",
      "95% Confidence Interval for Accuracy: (44.74%, 62.49%)\n"
     ]
    }
   ],
   "source": [
    "# SVC RBF\n",
    "scores_halfnorm_svc_rbf = cross_validation(dfs_halfnorm, svc_rbf)\n",
    "print_average(scores_halfnorm_svc_rbf)\n",
    "ci_95(scores_halfnorm_svc_rbf)"
   ]
  },
  {
   "cell_type": "code",
   "execution_count": 12,
   "metadata": {},
   "outputs": [
    {
     "name": "stdout",
     "output_type": "stream",
     "text": [
      "55.96%\n",
      "43.20%\n",
      "56.57%\n",
      "52.38%\n",
      "60.36%\n",
      "65.55%\n",
      "47.24%\n",
      "49.21%\n",
      "49.79%\n",
      "51.22%\n",
      "54.70%\n",
      "56.10%\n",
      "51.65%\n",
      "56.02%\n",
      "55.70%\n",
      "52.21%\n",
      "48.40%\n",
      "46.92%\n",
      "58.44%\n",
      "59.52%\n",
      "54.51%\n",
      "Average Cross-Validation Accuracy: 53.60%\n",
      "95% Confidence Interval for Accuracy: (43.60%, 63.60%)\n"
     ]
    }
   ],
   "source": [
    "# SVC Linear\n",
    "scores_halfnorm_svc_lin = cross_validation(dfs_halfnorm, svc_lin)\n",
    "print_average(scores_halfnorm_svc_lin)\n",
    "ci_95(scores_halfnorm_svc_lin)"
   ]
  },
  {
   "cell_type": "code",
   "execution_count": 13,
   "metadata": {},
   "outputs": [
    {
     "name": "stdout",
     "output_type": "stream",
     "text": [
      "55.96%\n",
      "48.40%\n",
      "56.18%\n",
      "51.08%\n",
      "57.99%\n",
      "75.21%\n",
      "48.03%\n",
      "54.72%\n",
      "49.79%\n",
      "49.59%\n",
      "58.12%\n",
      "56.50%\n",
      "55.37%\n",
      "49.79%\n",
      "62.03%\n",
      "54.62%\n",
      "52.80%\n",
      "30.00%\n",
      "65.43%\n",
      "51.79%\n",
      "51.50%\n",
      "Average Cross-Validation Accuracy: 54.04%\n",
      "95% Confidence Interval for Accuracy: (37.96%, 70.13%)\n"
     ]
    }
   ],
   "source": [
    "# Logistic Regression\n",
    "scores_halfnorm_logreg = cross_validation(dfs_halfnorm, logreg)\n",
    "print_average(scores_halfnorm_logreg)\n",
    "ci_95(scores_halfnorm_logreg)"
   ]
  },
  {
   "cell_type": "markdown",
   "metadata": {},
   "source": [
    "## 🔸Normalized"
   ]
  },
  {
   "cell_type": "code",
   "execution_count": 6,
   "metadata": {},
   "outputs": [
    {
     "name": "stdout",
     "output_type": "stream",
     "text": [
      "(4825, 1025)\n"
     ]
    }
   ],
   "source": [
    "pairs = [\"003\", \"004\", \"005\", \"007\", \"008\", \"009\", \"010\", \"011\", \"012\", \"013\", \"014\", \"016\", \"017\", \"018\", \"019\", \"020\", \"022\", \"023\", \"024\", \"025\", \"027\"]\n",
    "dfs_norm = []\n",
    "\n",
    "for pair in pairs:\n",
    "    df = pd.read_csv('BENDR/BENDR_norm_av/pair'+pair+'_df.csv')\n",
    "    dfs_norm.append(df)\n",
    "\n",
    "#print the length if all the dfs were concatenated\n",
    "print(pd.concat(dfs_norm, ignore_index=True).shape)"
   ]
  },
  {
   "cell_type": "code",
   "execution_count": 15,
   "metadata": {},
   "outputs": [
    {
     "name": "stdout",
     "output_type": "stream",
     "text": [
      "45.87%\n",
      "54.00%\n",
      "45.82%\n",
      "45.45%\n",
      "49.11%\n",
      "53.78%\n",
      "48.82%\n",
      "48.43%\n",
      "51.45%\n",
      "53.25%\n",
      "44.44%\n",
      "49.59%\n",
      "52.07%\n",
      "50.21%\n",
      "48.52%\n",
      "49.40%\n",
      "45.20%\n",
      "50.00%\n",
      "47.33%\n",
      "44.64%\n",
      "44.64%\n",
      "Average Cross-Validation Accuracy: 48.67%\n",
      "95% Confidence Interval for Accuracy: (42.75%, 54.58%)\n"
     ]
    }
   ],
   "source": [
    "# LDA\n",
    "scores_norm_lda = cross_validation(dfs_norm, lda)\n",
    "print_average(scores_norm_lda)\n",
    "ci_95(scores_norm_lda)"
   ]
  },
  {
   "cell_type": "code",
   "execution_count": 16,
   "metadata": {},
   "outputs": [
    {
     "name": "stdout",
     "output_type": "stream",
     "text": [
      "47.71%\n",
      "54.40%\n",
      "51.39%\n",
      "46.32%\n",
      "52.66%\n",
      "44.96%\n",
      "47.64%\n",
      "50.39%\n",
      "50.62%\n",
      "48.37%\n",
      "48.29%\n",
      "51.63%\n",
      "50.83%\n",
      "45.64%\n",
      "47.68%\n",
      "51.00%\n",
      "48.40%\n",
      "51.54%\n",
      "42.80%\n",
      "47.02%\n",
      "47.21%\n",
      "Average Cross-Validation Accuracy: 48.88%\n",
      "95% Confidence Interval for Accuracy: (43.47%, 54.29%)\n"
     ]
    }
   ],
   "source": [
    "# SVC RBF\n",
    "scores_norm_svc_rbf = cross_validation(dfs_norm, svc_rbf)\n",
    "print_average(scores_norm_svc_rbf)\n",
    "ci_95(scores_norm_svc_rbf)"
   ]
  },
  {
   "cell_type": "code",
   "execution_count": 6,
   "metadata": {},
   "outputs": [],
   "source": [
    "# SVC Linear\n",
    "scores_norm_svc_lin = cross_validation(dfs_norm, svc_lin)\n",
    "print_average(scores_norm_svc_lin)\n",
    "ci_95(scores_norm_svc_lin)"
   ]
  },
  {
   "cell_type": "code",
   "execution_count": 7,
   "metadata": {},
   "outputs": [
    {
     "name": "stdout",
     "output_type": "stream",
     "text": [
      "50.00%\n",
      "56.40%\n",
      "47.41%\n",
      "51.08%\n",
      "52.66%\n",
      "52.94%\n",
      "48.43%\n",
      "48.43%\n",
      "52.70%\n",
      "49.19%\n",
      "44.02%\n",
      "50.41%\n",
      "50.41%\n",
      "47.72%\n",
      "49.79%\n",
      "51.41%\n",
      "50.00%\n",
      "52.31%\n",
      "46.09%\n",
      "45.24%\n",
      "44.64%\n",
      "Average Cross-Validation Accuracy: 49.58%\n",
      "95% Confidence Interval for Accuracy: (43.70%, 55.47%)\n"
     ]
    }
   ],
   "source": [
    "# Logistic Regression\n",
    "scores_norm_logreg = cross_validation(dfs_norm, logreg)\n",
    "print_average(scores_norm_logreg)\n",
    "ci_95(scores_norm_logreg)"
   ]
  },
  {
   "cell_type": "markdown",
   "metadata": {},
   "source": [
    "# 🤖Altered Data\n",
    "- 19 EEG channels\n",
    "- Bad Epochs removed\n",
    "- Artificially added a 10Hz sinusoid signal with strength $0.5% \\cdot maxamplitude$\n",
    "- Transformed to BEDNR representations (3 types: no normalization, Half normalized, normalized)\n",
    "- Averaged the 8 representations per epoch"
   ]
  },
  {
   "cell_type": "markdown",
   "metadata": {},
   "source": [
    "## 🔺Non Normalized"
   ]
  },
  {
   "cell_type": "code",
   "execution_count": 8,
   "metadata": {},
   "outputs": [
    {
     "name": "stdout",
     "output_type": "stream",
     "text": [
      "(4825, 1025)\n"
     ]
    }
   ],
   "source": [
    "pairs = [\"003\", \"004\", \"005\", \"007\", \"008\", \"009\", \"010\", \"011\", \"012\", \"013\", \"014\", \"016\", \"017\", \"018\", \"019\", \"020\", \"022\", \"023\", \"024\", \"025\", \"027\"]\n",
    "dfs_nonorm_10Hz = []\n",
    "\n",
    "for pair in pairs:\n",
    "    df = pd.read_csv('BENDR/BENDR_no-norm_10Hz_av/pair'+pair+'_df.csv')\n",
    "    dfs_nonorm_10Hz.append(df)\n",
    "\n",
    "#print the length if all the dfs were concatenated\n",
    "print(pd.concat(dfs_nonorm_10Hz, ignore_index=True).shape)"
   ]
  },
  {
   "cell_type": "code",
   "execution_count": 9,
   "metadata": {},
   "outputs": [
    {
     "name": "stdout",
     "output_type": "stream",
     "text": [
      "83.94%\n",
      "78.80%\n",
      "97.21%\n",
      "91.77%\n",
      "78.11%\n",
      "72.69%\n",
      "92.13%\n",
      "81.89%\n",
      "95.02%\n",
      "89.84%\n",
      "75.21%\n",
      "92.68%\n",
      "90.08%\n",
      "95.02%\n",
      "93.67%\n",
      "95.18%\n",
      "81.20%\n",
      "86.92%\n",
      "90.53%\n",
      "84.52%\n",
      "79.40%\n",
      "Average Cross-Validation Accuracy: 86.94%\n",
      "95% Confidence Interval for Accuracy: (72.90%, 100.99%)\n"
     ]
    }
   ],
   "source": [
    "# LDA\n",
    "scores_nonorm_lda = cross_validation(dfs_nonorm_10Hz, lda)\n",
    "print_average(scores_nonorm_lda)\n",
    "ci_95(scores_nonorm_lda)"
   ]
  },
  {
   "cell_type": "code",
   "execution_count": 10,
   "metadata": {},
   "outputs": [
    {
     "name": "stdout",
     "output_type": "stream",
     "text": [
      "83.03%\n",
      "74.40%\n",
      "89.64%\n",
      "88.31%\n",
      "70.41%\n",
      "73.53%\n",
      "84.65%\n",
      "75.98%\n",
      "92.53%\n",
      "84.96%\n",
      "75.21%\n",
      "87.80%\n",
      "85.54%\n",
      "87.97%\n",
      "84.81%\n",
      "88.35%\n",
      "74.80%\n",
      "85.38%\n",
      "79.42%\n",
      "83.93%\n",
      "68.24%\n",
      "Average Cross-Validation Accuracy: 81.85%\n",
      "95% Confidence Interval for Accuracy: (68.57%, 95.14%)\n"
     ]
    }
   ],
   "source": [
    "# SVC RBF\n",
    "scores_nonorm_svc_rbf = cross_validation(dfs_nonorm_10Hz, svc_rbf)\n",
    "print_average(scores_nonorm_svc_rbf)\n",
    "ci_95(scores_nonorm_svc_rbf)"
   ]
  },
  {
   "cell_type": "code",
   "execution_count": 11,
   "metadata": {},
   "outputs": [
    {
     "name": "stdout",
     "output_type": "stream",
     "text": [
      "84.40%\n",
      "80.00%\n",
      "94.02%\n",
      "89.18%\n",
      "75.15%\n",
      "72.69%\n",
      "86.22%\n",
      "79.92%\n",
      "95.85%\n",
      "87.80%\n",
      "79.91%\n",
      "90.65%\n",
      "87.60%\n",
      "91.70%\n",
      "89.87%\n",
      "89.96%\n",
      "80.40%\n",
      "86.92%\n",
      "88.07%\n",
      "86.90%\n",
      "72.10%\n",
      "Average Cross-Validation Accuracy: 85.21%\n",
      "95% Confidence Interval for Accuracy: (72.47%, 97.94%)\n"
     ]
    }
   ],
   "source": [
    "# SVC Linear\n",
    "scores_nonorm_svc_lin = cross_validation(dfs_nonorm_10Hz, svc_lin)\n",
    "print_average(scores_nonorm_svc_lin)\n",
    "ci_95(scores_nonorm_svc_lin)"
   ]
  },
  {
   "cell_type": "code",
   "execution_count": 12,
   "metadata": {},
   "outputs": [
    {
     "name": "stdout",
     "output_type": "stream",
     "text": [
      "63.76%\n",
      "55.60%\n",
      "54.18%\n",
      "61.90%\n",
      "53.85%\n",
      "56.30%\n",
      "57.48%\n",
      "52.36%\n",
      "64.32%\n",
      "53.25%\n",
      "57.69%\n",
      "67.48%\n",
      "59.92%\n",
      "63.90%\n",
      "56.54%\n",
      "61.04%\n",
      "55.20%\n",
      "73.08%\n",
      "58.02%\n",
      "62.50%\n",
      "58.80%\n",
      "Average Cross-Validation Accuracy: 59.39%\n",
      "95% Confidence Interval for Accuracy: (49.46%, 69.32%)\n"
     ]
    }
   ],
   "source": [
    "# Logistic Regression\n",
    "scores_nonorm_logreg = cross_validation(dfs_nonorm_10Hz, logreg)\n",
    "print_average(scores_nonorm_logreg)\n",
    "ci_95(scores_nonorm_logreg)"
   ]
  },
  {
   "cell_type": "markdown",
   "metadata": {},
   "source": [
    "## 🔹Half Normalized"
   ]
  },
  {
   "cell_type": "code",
   "execution_count": 14,
   "metadata": {},
   "outputs": [
    {
     "name": "stdout",
     "output_type": "stream",
     "text": [
      "(4825, 1025)\n"
     ]
    }
   ],
   "source": [
    "pairs = [\"003\", \"004\", \"005\", \"007\", \"008\", \"009\", \"010\", \"011\", \"012\", \"013\", \"014\", \"016\", \"017\", \"018\", \"019\", \"020\", \"022\", \"023\", \"024\", \"025\", \"027\"]\n",
    "dfs_halfnorm_10Hz = []\n",
    "\n",
    "for pair in pairs:\n",
    "    df = pd.read_csv('BENDR/BENDR_half_norm_10Hz_av/pair'+pair+'_df.csv')\n",
    "    dfs_halfnorm_10Hz.append(df)\n",
    "\n",
    "#print the length if all the dfs were concatenated\n",
    "print(pd.concat(dfs_halfnorm_10Hz, ignore_index=True).shape)"
   ]
  },
  {
   "cell_type": "code",
   "execution_count": 15,
   "metadata": {},
   "outputs": [
    {
     "name": "stdout",
     "output_type": "stream",
     "text": [
      "76.61%\n",
      "68.40%\n",
      "94.02%\n",
      "95.67%\n",
      "73.37%\n",
      "64.71%\n",
      "87.01%\n",
      "69.29%\n",
      "95.02%\n",
      "71.54%\n",
      "67.95%\n",
      "86.99%\n",
      "84.30%\n",
      "88.38%\n",
      "81.86%\n",
      "93.57%\n",
      "76.00%\n",
      "85.38%\n",
      "87.65%\n",
      "85.12%\n",
      "72.96%\n",
      "Average Cross-Validation Accuracy: 81.23%\n",
      "95% Confidence Interval for Accuracy: (62.37%, 100.09%)\n"
     ]
    }
   ],
   "source": [
    "# LDA\n",
    "scores_halfnorm_lda = cross_validation(dfs_halfnorm_10Hz, lda)\n",
    "print_average(scores_halfnorm_lda)\n",
    "ci_95(scores_halfnorm_lda)"
   ]
  },
  {
   "cell_type": "code",
   "execution_count": 16,
   "metadata": {},
   "outputs": [
    {
     "name": "stdout",
     "output_type": "stream",
     "text": [
      "77.06%\n",
      "60.40%\n",
      "67.73%\n",
      "83.98%\n",
      "62.72%\n",
      "65.55%\n",
      "56.30%\n",
      "57.48%\n",
      "73.86%\n",
      "55.69%\n",
      "65.81%\n",
      "74.39%\n",
      "71.90%\n",
      "68.46%\n",
      "62.45%\n",
      "79.12%\n",
      "64.00%\n",
      "75.38%\n",
      "70.37%\n",
      "60.71%\n",
      "57.51%\n",
      "Average Cross-Validation Accuracy: 67.19%\n",
      "95% Confidence Interval for Accuracy: (51.74%, 82.63%)\n"
     ]
    }
   ],
   "source": [
    "# SVC RBF\n",
    "scores_halfnorm_svc_rbf = cross_validation(dfs_halfnorm_10Hz, svc_rbf)\n",
    "print_average(scores_halfnorm_svc_rbf)\n",
    "ci_95(scores_halfnorm_svc_rbf)"
   ]
  },
  {
   "cell_type": "code",
   "execution_count": 17,
   "metadata": {},
   "outputs": [
    {
     "name": "stdout",
     "output_type": "stream",
     "text": [
      "78.90%\n",
      "64.40%\n",
      "81.27%\n",
      "90.91%\n",
      "68.05%\n",
      "64.71%\n",
      "73.62%\n",
      "62.60%\n",
      "89.21%\n",
      "61.38%\n",
      "68.80%\n",
      "82.52%\n",
      "81.40%\n",
      "86.72%\n",
      "75.95%\n",
      "90.76%\n",
      "74.00%\n",
      "80.77%\n",
      "78.19%\n",
      "77.38%\n",
      "60.52%\n",
      "Average Cross-Validation Accuracy: 75.81%\n",
      "95% Confidence Interval for Accuracy: (57.24%, 94.39%)\n"
     ]
    }
   ],
   "source": [
    "# SVC Linear\n",
    "scores_halfnorm_svc_lin = cross_validation(dfs_halfnorm_10Hz, svc_lin)\n",
    "print_average(scores_halfnorm_svc_lin)\n",
    "ci_95(scores_halfnorm_svc_lin)"
   ]
  },
  {
   "cell_type": "code",
   "execution_count": 18,
   "metadata": {},
   "outputs": [
    {
     "name": "stdout",
     "output_type": "stream",
     "text": [
      "56.88%\n",
      "48.00%\n",
      "55.78%\n",
      "51.95%\n",
      "58.58%\n",
      "74.37%\n",
      "47.64%\n",
      "54.33%\n",
      "49.79%\n",
      "49.59%\n",
      "57.69%\n",
      "56.10%\n",
      "56.61%\n",
      "48.96%\n",
      "60.34%\n",
      "55.42%\n",
      "54.40%\n",
      "29.23%\n",
      "65.43%\n",
      "48.21%\n",
      "51.50%\n",
      "Average Cross-Validation Accuracy: 53.85%\n",
      "95% Confidence Interval for Accuracy: (37.61%, 70.09%)\n"
     ]
    }
   ],
   "source": [
    "# Logistic Regression\n",
    "scores_halfnorm_logreg = cross_validation(dfs_halfnorm_10Hz, logreg)\n",
    "print_average(scores_halfnorm_logreg)\n",
    "ci_95(scores_halfnorm_logreg)"
   ]
  },
  {
   "cell_type": "markdown",
   "metadata": {},
   "source": [
    "## 🔸Normalized"
   ]
  },
  {
   "cell_type": "code",
   "execution_count": 19,
   "metadata": {},
   "outputs": [
    {
     "name": "stdout",
     "output_type": "stream",
     "text": [
      "(4825, 1025)\n"
     ]
    }
   ],
   "source": [
    "pairs = [\"003\", \"004\", \"005\", \"007\", \"008\", \"009\", \"010\", \"011\", \"012\", \"013\", \"014\", \"016\", \"017\", \"018\", \"019\", \"020\", \"022\", \"023\", \"024\", \"025\", \"027\"]\n",
    "dfs_norm_10Hz = []\n",
    "\n",
    "for pair in pairs:\n",
    "    df = pd.read_csv('BENDR/BENDR_norm_10Hz_av/pair'+pair+'_df.csv')\n",
    "    dfs_norm_10Hz.append(df)\n",
    "\n",
    "#print the length if all the dfs were concatenated\n",
    "print(pd.concat(dfs_norm_10Hz, ignore_index=True).shape)"
   ]
  },
  {
   "cell_type": "code",
   "execution_count": 20,
   "metadata": {},
   "outputs": [
    {
     "name": "stdout",
     "output_type": "stream",
     "text": [
      "62.39%\n",
      "58.40%\n",
      "68.13%\n",
      "65.37%\n",
      "64.50%\n",
      "58.40%\n",
      "66.14%\n",
      "58.27%\n",
      "70.12%\n",
      "71.14%\n",
      "58.12%\n",
      "68.29%\n",
      "66.94%\n",
      "65.56%\n",
      "62.45%\n",
      "66.27%\n",
      "62.00%\n",
      "70.00%\n",
      "64.20%\n",
      "72.02%\n",
      "53.22%\n",
      "Average Cross-Validation Accuracy: 64.38%\n",
      "95% Confidence Interval for Accuracy: (54.82%, 73.94%)\n"
     ]
    }
   ],
   "source": [
    "# LDA\n",
    "scores_norm_lda = cross_validation(dfs_norm_10Hz, lda)\n",
    "print_average(scores_norm_lda)\n",
    "ci_95(scores_norm_lda)"
   ]
  },
  {
   "cell_type": "code",
   "execution_count": 21,
   "metadata": {},
   "outputs": [
    {
     "name": "stdout",
     "output_type": "stream",
     "text": [
      "60.55%\n",
      "59.60%\n",
      "64.54%\n",
      "58.44%\n",
      "67.46%\n",
      "55.46%\n",
      "62.20%\n",
      "57.09%\n",
      "70.54%\n",
      "65.45%\n",
      "59.83%\n",
      "60.98%\n",
      "63.22%\n",
      "64.73%\n",
      "62.45%\n",
      "67.87%\n",
      "60.00%\n",
      "66.15%\n",
      "60.49%\n",
      "60.71%\n",
      "59.66%\n",
      "Average Cross-Validation Accuracy: 62.26%\n",
      "95% Confidence Interval for Accuracy: (55.01%, 69.51%)\n"
     ]
    }
   ],
   "source": [
    "# SVC RBF\n",
    "scores_norm_svc_rbf = cross_validation(dfs_norm_10Hz, svc_rbf)\n",
    "print_average(scores_norm_svc_rbf)\n",
    "ci_95(scores_norm_svc_rbf)"
   ]
  },
  {
   "cell_type": "code",
   "execution_count": 23,
   "metadata": {},
   "outputs": [],
   "source": [
    "# SVC Linear\n",
    "scores_norm_svc_lin = cross_validation(dfs_norm_10Hz, svc_lin)\n",
    "print_average(scores_norm_svc_lin)\n",
    "ci_95(scores_norm_svc_lin)"
   ]
  },
  {
   "cell_type": "code",
   "execution_count": 22,
   "metadata": {},
   "outputs": [
    {
     "name": "stdout",
     "output_type": "stream",
     "text": [
      "64.22%\n",
      "64.40%\n",
      "66.53%\n",
      "67.10%\n",
      "62.72%\n",
      "58.82%\n",
      "62.99%\n",
      "59.45%\n",
      "72.61%\n",
      "67.48%\n",
      "57.69%\n",
      "63.82%\n",
      "64.46%\n",
      "68.05%\n",
      "61.60%\n",
      "69.48%\n",
      "60.40%\n",
      "70.77%\n",
      "62.14%\n",
      "69.64%\n",
      "55.36%\n",
      "Average Cross-Validation Accuracy: 64.27%\n",
      "95% Confidence Interval for Accuracy: (55.59%, 72.96%)\n"
     ]
    }
   ],
   "source": [
    "# Logistic Regression\n",
    "scores_norm_logreg = cross_validation(dfs_norm_10Hz, logreg)\n",
    "print_average(scores_norm_logreg)\n",
    "ci_95(scores_norm_logreg)"
   ]
  }
 ],
 "metadata": {
  "kernelspec": {
   "display_name": "Python 3",
   "language": "python",
   "name": "python3"
  },
  "language_info": {
   "codemirror_mode": {
    "name": "ipython",
    "version": 3
   },
   "file_extension": ".py",
   "mimetype": "text/x-python",
   "name": "python",
   "nbconvert_exporter": "python",
   "pygments_lexer": "ipython3",
   "version": "3.10.11"
  }
 },
 "nbformat": 4,
 "nbformat_minor": 2
}
