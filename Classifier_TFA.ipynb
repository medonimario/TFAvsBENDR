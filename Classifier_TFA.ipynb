{
 "cells": [
  {
   "cell_type": "markdown",
   "metadata": {},
   "source": [
    "# Imports and Functions"
   ]
  },
  {
   "cell_type": "code",
   "execution_count": 1,
   "metadata": {},
   "outputs": [],
   "source": [
    "from sklearn.model_selection import cross_val_score, StratifiedKFold\n",
    "import pandas as pd\n",
    "from sklearn.discriminant_analysis import LinearDiscriminantAnalysis\n",
    "from imblearn.over_sampling import RandomOverSampler\n",
    "import numpy as np\n",
    "from sklearn.svm import SVC\n",
    "from sklearn.linear_model import LogisticRegression"
   ]
  },
  {
   "cell_type": "code",
   "execution_count": 2,
   "metadata": {},
   "outputs": [],
   "source": [
    "lda = LinearDiscriminantAnalysis()\n",
    "svc_lin = SVC(C=1000.0, kernel='linear')\n",
    "svc_rbf = SVC(kernel='rbf', C=1000.0)\n",
    "logreg = LogisticRegression(max_iter=100000)"
   ]
  },
  {
   "cell_type": "code",
   "execution_count": 3,
   "metadata": {},
   "outputs": [],
   "source": [
    "def cross_validation(dfs, classifier, n_splits=21):\n",
    "    scores = []\n",
    "    \n",
    "    # Determine base group size and the number of groups that need an extra sample\n",
    "    base_group_size = len(dfs) // n_splits\n",
    "    num_extra = len(dfs) % n_splits\n",
    "    \n",
    "    # Create the dynamic groups\n",
    "    grouped_pairs = []\n",
    "    start = 0\n",
    "    for i in range(n_splits):\n",
    "        end = start + base_group_size\n",
    "        if i < num_extra:  # Add an extra sample to the first 'num_extra' groups\n",
    "            end += 1\n",
    "        grouped_pairs.append(dfs[start:end])\n",
    "        start = end\n",
    "    \n",
    "    for i in range(n_splits):\n",
    "        # Prepare the training and test data\n",
    "        test_df = pd.concat(grouped_pairs[i], ignore_index=True)\n",
    "        train_df = pd.concat([df for j, group in enumerate(grouped_pairs) for df in group if j != i], ignore_index=True)\n",
    "        \n",
    "        X_train = train_df.drop('label', axis=1)\n",
    "        y_train = train_df['label']\n",
    "        X_test = test_df.drop('label', axis=1)\n",
    "        y_test = test_df['label']\n",
    "        \n",
    "        # Handle class imbalance for the training set\n",
    "        ros = RandomOverSampler(random_state=42)\n",
    "        X_resampled, y_resampled = ros.fit_resample(X_train, y_train)\n",
    "        \n",
    "        # Train and validate the classifier\n",
    "        classifier.fit(X_resampled, y_resampled)\n",
    "        score = classifier.score(X_test, y_test)\n",
    "        scores.append(score)\n",
    "        print(f\"{score * 100:.2f}%\")\n",
    "    \n",
    "    return scores\n",
    "\n",
    "# Average cross-validation score\n",
    "def print_average(scores):\n",
    "    average_score = sum(scores) / len(scores)\n",
    "    print(f\"Average Cross-Validation Accuracy: {average_score * 100:.2f}%\")\n",
    "\n",
    "# 95% Confidence Interval\n",
    "def ci_95(scores):\n",
    "    std_dev = np.std(scores)\n",
    "    mean_score = np.mean(scores)\n",
    "    error_range = (mean_score - 1.96 * std_dev, mean_score + 1.96 * std_dev)\n",
    "    print(f\"95% Confidence Interval for Accuracy: ({error_range[0] * 100:.2f}%, {error_range[1] * 100:.2f}%)\")"
   ]
  },
  {
   "cell_type": "markdown",
   "metadata": {},
   "source": [
    "# Experiment Data\n",
    "- 19 EEG Channels\n",
    "- Bad Epochs removed\n",
    "- TFA calculated on it"
   ]
  },
  {
   "cell_type": "code",
   "execution_count": 5,
   "metadata": {},
   "outputs": [
    {
     "name": "stdout",
     "output_type": "stream",
     "text": [
      "(4825, 3421)\n",
      "Unoupled: 2282\n",
      "Coupled: 2543\n"
     ]
    }
   ],
   "source": [
    "pairs = [\"003\", \"004\", \"005\", \"007\", \"008\", \"009\", \"010\", \"011\", \"012\", \"013\", \"014\", \"016\", \"017\", \"018\", \"019\", \"020\", \"022\", \"023\", \"024\", \"025\", \"027\"]\n",
    "dfs = []\n",
    "\n",
    "for pair in pairs:\n",
    "    df = pd.read_csv('TF_df_19/pair'+pair+'_df.csv')\n",
    "    dfs.append(df)\n",
    "\n",
    "# Concatenate all DataFrames\n",
    "concatenated_df = pd.concat(dfs, ignore_index=True)\n",
    "\n",
    "# Print the total number of rows in the concatenated DataFrame\n",
    "print(concatenated_df.shape)\n",
    "\n",
    "# Print the number of rows labeled as 1 (Unoupled)\n",
    "unoupled_count = concatenated_df['label'].value_counts().get(1, 0)\n",
    "print(\"Unoupled:\", unoupled_count)\n",
    "\n",
    "# Print the number of rows labeled as 2 (Coupled)\n",
    "coupled_count = concatenated_df['label'].value_counts().get(2, 0)\n",
    "print(\"Coupled:\", coupled_count)"
   ]
  },
  {
   "cell_type": "code",
   "execution_count": 5,
   "metadata": {},
   "outputs": [
    {
     "name": "stdout",
     "output_type": "stream",
     "text": [
      "64.22%\n",
      "56.40%\n",
      "59.36%\n",
      "53.25%\n",
      "62.13%\n",
      "56.30%\n",
      "54.72%\n",
      "59.45%\n",
      "51.45%\n",
      "56.50%\n",
      "53.85%\n",
      "62.20%\n",
      "55.37%\n",
      "58.92%\n",
      "58.65%\n",
      "55.82%\n",
      "49.60%\n",
      "64.62%\n",
      "61.32%\n",
      "59.52%\n",
      "64.38%\n",
      "Average Cross-Validation Accuracy: 58.00%\n"
     ]
    }
   ],
   "source": [
    "# LDA\n",
    "scores_lda = cross_validation(dfs, lda)\n",
    "print_average(scores_lda)\n",
    "ci_95(scores_lda)"
   ]
  },
  {
   "cell_type": "code",
   "execution_count": 8,
   "metadata": {},
   "outputs": [
    {
     "name": "stdout",
     "output_type": "stream",
     "text": [
      "72.94%\n",
      "60.80%\n",
      "54.58%\n",
      "53.25%\n",
      "62.13%\n",
      "65.97%\n",
      "62.20%\n",
      "67.72%\n",
      "65.98%\n",
      "64.63%\n",
      "62.82%\n",
      "59.35%\n",
      "63.64%\n",
      "69.29%\n",
      "67.51%\n",
      "68.67%\n",
      "48.00%\n",
      "33.08%\n",
      "73.66%\n",
      "52.98%\n",
      "81.55%\n",
      "Average Cross-Validation Accuracy: 62.42%\n",
      "95% Confidence Interval for Accuracy: (42.86%, 81.97%)\n"
     ]
    }
   ],
   "source": [
    "# SVC RBF\n",
    "scores_svc_rbf = cross_validation(dfs, svc_rbf)\n",
    "print_average(scores_svc_rbf)\n",
    "ci_95(scores_svc_rbf)"
   ]
  },
  {
   "cell_type": "code",
   "execution_count": 9,
   "metadata": {},
   "outputs": [
    {
     "name": "stdout",
     "output_type": "stream",
     "text": [
      "43.12%\n",
      "49.20%\n",
      "49.80%\n",
      "51.52%\n",
      "37.87%\n",
      "49.58%\n",
      "49.61%\n",
      "49.61%\n",
      "49.38%\n",
      "48.37%\n",
      "45.30%\n",
      "52.03%\n",
      "47.11%\n",
      "51.45%\n",
      "50.63%\n",
      "48.59%\n",
      "50.00%\n",
      "2.31%\n",
      "47.33%\n",
      "50.60%\n",
      "46.35%\n",
      "Average Cross-Validation Accuracy: 46.18%\n",
      "95% Confidence Interval for Accuracy: (25.99%, 66.37%)\n"
     ]
    }
   ],
   "source": [
    "# SVC Linear\n",
    "scores_svc_lin = cross_validation(dfs, svc_lin)\n",
    "print_average(scores_svc_lin)\n",
    "ci_95(scores_svc_lin)"
   ]
  },
  {
   "cell_type": "code",
   "execution_count": 10,
   "metadata": {},
   "outputs": [
    {
     "name": "stdout",
     "output_type": "stream",
     "text": [
      "43.12%\n",
      "49.20%\n",
      "49.80%\n",
      "51.52%\n",
      "37.87%\n",
      "49.58%\n",
      "49.61%\n",
      "49.61%\n",
      "49.38%\n",
      "48.37%\n",
      "45.30%\n",
      "52.03%\n",
      "47.11%\n",
      "51.45%\n",
      "50.63%\n",
      "48.59%\n",
      "50.00%\n",
      "2.31%\n",
      "47.33%\n",
      "50.60%\n",
      "46.35%\n",
      "Average Cross-Validation Accuracy: 46.18%\n",
      "95% Confidence Interval for Accuracy: (25.99%, 66.37%)\n"
     ]
    }
   ],
   "source": [
    "# Logistic Regression\n",
    "scores_logreg = cross_validation(dfs, logreg)\n",
    "print_average(scores_logreg)\n",
    "ci_95(scores_logreg)"
   ]
  },
  {
   "cell_type": "markdown",
   "metadata": {},
   "source": [
    "# Synthetic Data\n",
    "- 19 EEG Channels\n",
    "- Bad Epochs removed\n",
    "- Artificially added a 10Hz sinusoid signal with strength $0.5% \\cdot maxamplitude$\n",
    "- TFA calculated on it"
   ]
  },
  {
   "cell_type": "code",
   "execution_count": 11,
   "metadata": {},
   "outputs": [
    {
     "name": "stdout",
     "output_type": "stream",
     "text": [
      "(4825, 3421)\n"
     ]
    }
   ],
   "source": [
    "pairs = [\"003\", \"004\", \"005\", \"007\", \"008\", \"009\", \"010\", \"011\", \"012\", \"013\", \"014\", \"016\", \"017\", \"018\", \"019\", \"020\", \"022\", \"023\", \"024\", \"025\", \"027\"]\n",
    "dfs_10Hz = []\n",
    "\n",
    "for pair in pairs:\n",
    "    df = pd.read_csv('TFA_10Hz/pair'+pair+'_df.csv')\n",
    "    dfs_10Hz.append(df)\n",
    "\n",
    "#print the length if all the dfs were concatenated\n",
    "print(pd.concat(dfs_10Hz, ignore_index=True).shape)"
   ]
  },
  {
   "cell_type": "code",
   "execution_count": 12,
   "metadata": {},
   "outputs": [
    {
     "name": "stdout",
     "output_type": "stream",
     "text": [
      "87.16%\n",
      "60.80%\n",
      "57.77%\n",
      "59.74%\n",
      "57.99%\n",
      "58.82%\n",
      "75.98%\n",
      "63.39%\n",
      "58.92%\n",
      "58.13%\n",
      "56.41%\n",
      "60.16%\n",
      "56.20%\n",
      "63.49%\n",
      "59.49%\n",
      "60.24%\n",
      "41.60%\n",
      "70.00%\n",
      "87.24%\n",
      "57.14%\n",
      "70.39%\n",
      "Average Cross-Validation Accuracy: 62.91%\n",
      "95% Confidence Interval for Accuracy: (42.94%, 82.87%)\n"
     ]
    }
   ],
   "source": [
    "# LDA\n",
    "scores_10Hz_lda = cross_validation(dfs_10Hz, lda)\n",
    "print_average(scores_10Hz_lda)\n",
    "ci_95(scores_10Hz_lda)"
   ]
  },
  {
   "cell_type": "code",
   "execution_count": 13,
   "metadata": {},
   "outputs": [
    {
     "name": "stdout",
     "output_type": "stream",
     "text": [
      "91.74%\n",
      "60.80%\n",
      "57.37%\n",
      "87.88%\n",
      "60.36%\n",
      "60.08%\n",
      "98.43%\n",
      "82.68%\n",
      "95.85%\n",
      "84.96%\n",
      "58.12%\n",
      "71.95%\n",
      "65.70%\n",
      "90.04%\n",
      "96.62%\n",
      "90.76%\n",
      "50.00%\n",
      "73.85%\n",
      "97.53%\n",
      "55.36%\n",
      "84.12%\n",
      "Average Cross-Validation Accuracy: 76.87%\n",
      "95% Confidence Interval for Accuracy: (45.47%, 108.27%)\n"
     ]
    }
   ],
   "source": [
    "# SVC RBF\n",
    "scores_10Hz_svc_rbf = cross_validation(dfs_10Hz, svc_rbf)\n",
    "print_average(scores_10Hz_svc_rbf)\n",
    "ci_95(scores_10Hz_svc_rbf)"
   ]
  },
  {
   "cell_type": "code",
   "execution_count": 14,
   "metadata": {},
   "outputs": [
    {
     "name": "stdout",
     "output_type": "stream",
     "text": [
      "43.12%\n",
      "49.20%\n",
      "49.80%\n",
      "51.52%\n",
      "37.87%\n",
      "49.58%\n",
      "49.61%\n",
      "49.61%\n",
      "49.38%\n",
      "48.37%\n",
      "45.30%\n",
      "52.03%\n",
      "47.11%\n",
      "51.45%\n",
      "50.63%\n",
      "48.59%\n",
      "50.00%\n",
      "2.31%\n",
      "47.33%\n",
      "50.60%\n",
      "46.35%\n",
      "Average Cross-Validation Accuracy: 46.18%\n",
      "95% Confidence Interval for Accuracy: (25.99%, 66.37%)\n"
     ]
    }
   ],
   "source": [
    "# SVC Linear\n",
    "scores_10Hz_svc_lin = cross_validation(dfs_10Hz, svc_lin)\n",
    "print_average(scores_10Hz_svc_lin)\n",
    "ci_95(scores_10Hz_svc_lin)"
   ]
  },
  {
   "cell_type": "code",
   "execution_count": 15,
   "metadata": {},
   "outputs": [
    {
     "name": "stdout",
     "output_type": "stream",
     "text": [
      "43.12%\n",
      "49.20%\n",
      "49.80%\n",
      "51.52%\n",
      "37.87%\n",
      "49.58%\n",
      "49.61%\n",
      "49.61%\n",
      "49.38%\n",
      "48.37%\n",
      "45.30%\n",
      "52.03%\n",
      "47.11%\n",
      "51.45%\n",
      "50.63%\n",
      "48.59%\n",
      "50.00%\n",
      "2.31%\n",
      "47.33%\n",
      "50.60%\n",
      "46.35%\n",
      "Average Cross-Validation Accuracy: 46.18%\n",
      "95% Confidence Interval for Accuracy: (25.99%, 66.37%)\n"
     ]
    }
   ],
   "source": [
    "# Logistic Regression\n",
    "scores_10Hz_logreg = cross_validation(dfs_10Hz, logreg)\n",
    "print_average(scores_10Hz_logreg)\n",
    "ci_95(scores_10Hz_logreg)"
   ]
  }
 ],
 "metadata": {
  "kernelspec": {
   "display_name": "Python 3",
   "language": "python",
   "name": "python3"
  },
  "language_info": {
   "codemirror_mode": {
    "name": "ipython",
    "version": 3
   },
   "file_extension": ".py",
   "mimetype": "text/x-python",
   "name": "python",
   "nbconvert_exporter": "python",
   "pygments_lexer": "ipython3",
   "version": "3.10.11"
  }
 },
 "nbformat": 4,
 "nbformat_minor": 2
}
